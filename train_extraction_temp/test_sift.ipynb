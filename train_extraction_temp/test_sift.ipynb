{
 "cells": [
  {
   "cell_type": "code",
   "execution_count": 5,
   "id": "3d41422f",
   "metadata": {},
   "outputs": [
    {
     "name": "stderr",
     "output_type": "stream",
     "text": [
      "Processing Images:   0%|          | 0/50000 [00:00<?, ?it/s]"
     ]
    },
    {
     "name": "stderr",
     "output_type": "stream",
     "text": [
      "Processing Images: 100%|██████████| 50000/50000 [01:20<00:00, 622.59it/s]\n"
     ]
    }
   ],
   "source": [
    "from skimage import color\n",
    "import cv2\n",
    "import os\n",
    "import numpy as np\n",
    "from PIL import Image\n",
    "from tqdm import tqdm\n",
    "import pandas as pd\n",
    "\n",
    "csv_path = \"../../data/train.csv\"\n",
    "img_dir = \"../../data/train_ims\"\n",
    "output_dir = \"../../data/train_sift_ims\"\n",
    "data = pd.read_csv(csv_path)\n",
    "\n",
    "X = []\n",
    "y = []\n",
    "\n",
    "# 创建 SIFT 对象\n",
    "sift = cv2.SIFT_create()\n",
    "\n",
    "for _, row in tqdm(data.iterrows(), total=len(data), desc=\"Processing Images\"):\n",
    "    img_path = os.path.join(img_dir, row.iloc[0])\n",
    "    label = int(row.iloc[1])\n",
    "    img_name = os.path.splitext(row.iloc[0])[0]\n",
    "    img = Image.open(img_path).convert(\"RGB\")\n",
    "    \n",
    "    # 转换为灰度图像\n",
    "    img_gray = color.rgb2gray(np.array(img))\n",
    "    img_gray = (img_gray * 255).astype(np.uint8)  # 转换为 8 位灰度图像\n",
    "    img_gray = cv2.resize(img_gray, (128, 128), interpolation=cv2.INTER_CUBIC)\n",
    "    # 检测 SIFT 特征点并计算描述符\n",
    "    keypoints, descriptors = sift.detectAndCompute(img_gray, None)\n",
    "    \n",
    "    if descriptors is not None:\n",
    "        # 保存 SIFT 特征点可视化图像\n",
    "        img_sift = cv2.drawKeypoints(img_gray, keypoints, None, flags=cv2.DRAW_MATCHES_FLAGS_DRAW_RICH_KEYPOINTS)\n",
    "    else:\n",
    "        img_sift = img_gray\n",
    "    \n",
    "    sift_image_path = os.path.join(output_dir, f\"{img_name}.jpg\")\n",
    "    cv2.imwrite(sift_image_path, img_sift)\n",
    "\n",
    "        # 将描述符展平并添加到特征列表\n",
    "        # X.append(descriptors.flatten())\n",
    "        # y.append(label)\n",
    "\n",
    "# 将特征和标签转换为 NumPy 数组\n",
    "X = np.array(X, dtype=object)  # 使用 dtype=object 以支持不同长度的描述符\n",
    "y = np.array(y)"
   ]
  }
 ],
 "metadata": {
  "kernelspec": {
   "display_name": "rapids_env2",
   "language": "python",
   "name": "python3"
  },
  "language_info": {
   "codemirror_mode": {
    "name": "ipython",
    "version": 3
   },
   "file_extension": ".py",
   "mimetype": "text/x-python",
   "name": "python",
   "nbconvert_exporter": "python",
   "pygments_lexer": "ipython3",
   "version": "3.8.20"
  }
 },
 "nbformat": 4,
 "nbformat_minor": 5
}

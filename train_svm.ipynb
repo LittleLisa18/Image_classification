{
 "cells": [
  {
   "cell_type": "code",
   "execution_count": 1,
   "id": "1a307ed1",
   "metadata": {},
   "outputs": [
    {
     "name": "stderr",
     "output_type": "stream",
     "text": [
      "Intel(R) Extension for Scikit-learn* enabled (https://github.com/intel/scikit-learn-intelex)\n"
     ]
    }
   ],
   "source": [
    "from sklearnex import patch_sklearn, unpatch_sklearn\n",
    "patch_sklearn()"
   ]
  },
  {
   "cell_type": "code",
   "execution_count": null,
   "id": "ab82a17c",
   "metadata": {},
   "outputs": [
    {
     "name": "stdout",
     "output_type": "stream",
     "text": [
      "           im_name  label\n",
      "0      000231c.jpg      2\n",
      "1      0002574.jpg      5\n",
      "2      00027d5.jpg      7\n",
      "3      000304e.jpg      3\n",
      "4      00047fc.jpg      7\n",
      "...            ...    ...\n",
      "49995  d507197.jpg      5\n",
      "49996  d508429.jpg      1\n",
      "49997  d508cb7.jpg      9\n",
      "49998  d509167.jpg      3\n",
      "49999  d509c42.jpg      3\n",
      "\n",
      "[50000 rows x 2 columns]\n",
      "SVM Validation Accuracy: 0.7535\n",
      "Classification Report:\n",
      "              precision    recall  f1-score   support\n",
      "\n",
      "           0       0.79      0.82      0.80      1011\n",
      "           1       0.88      0.86      0.87      1051\n",
      "           2       0.64      0.65      0.65       985\n",
      "           3       0.55      0.56      0.55       983\n",
      "           4       0.68      0.72      0.70       968\n",
      "           5       0.64      0.61      0.63       975\n",
      "           6       0.82      0.80      0.81      1022\n",
      "           7       0.84      0.79      0.82       987\n",
      "           8       0.85      0.86      0.85       996\n",
      "           9       0.85      0.83      0.84      1022\n",
      "\n",
      "    accuracy                           0.75     10000\n",
      "   macro avg       0.75      0.75      0.75     10000\n",
      "weighted avg       0.75      0.75      0.75     10000\n",
      "\n"
     ]
    }
   ],
   "source": [
    "from sklearn.decomposition import PCA\n",
    "from sklearn.preprocessing import StandardScaler\n",
    "from sklearn.pipeline import make_pipeline\n",
    "from sklearn.svm import SVC\n",
    "from sklearn.metrics import accuracy_score\n",
    "\n",
    "from sklearn.model_selection import train_test_split\n",
    "\n",
    "import os\n",
    "import numpy as np\n",
    "import pandas as pd\n",
    "from PIL import Image\n",
    "\n",
    "SEED = 42\n",
    "\n",
    "csv_path, csv_test_path = \"../data/train.csv\", \"../data/test.csv\"\n",
    "img_dir, img_dir_test = \"../data/train_ims\", \"../data/test_ims\"\n",
    "\n",
    "data_train = pd.read_csv(csv_path)\n",
    "print(data_train)\n",
    "data_test = pd.read_csv(csv_test_path)\n",
    "\n",
    "X_train, y_train, X_test, y_test = [], [], [], []\n",
    "\n",
    "for _, row in data_train.iterrows():\n",
    "    img_path = os.path.join(img_dir, row.iloc[0])\n",
    "    label = int(row.iloc[1])\n",
    "    img = Image.open(img_path).convert(\"RGB\")\n",
    "    img = np.array(img).flatten()\n",
    "    X_train.append(img)\n",
    "    y_train.append(label)\n",
    "\n",
    "for _, row in data_test.iterrows():\n",
    "    img_path = os.path.join(img_dir_test, row.iloc[0])\n",
    "    label = int(row.iloc[1])\n",
    "    img = Image.open(img_path).convert(\"RGB\")\n",
    "    img = np.array(img).flatten()\n",
    "    X_test.append(img)\n",
    "    y_test.append(label)\n",
    "\n",
    "X_train = np.array(X_train)\n",
    "y_train = np.array(y_train)\n",
    "\n",
    "X_test = np.array(X_test)\n",
    "y_test = np.array(y_test)\n",
    "\n",
    "X_train, X_val, y_train, y_val = train_test_split(X_train, y_train, test_size=0.2, random_state=SEED)\n",
    "\n",
    "\n",
    "X_train_featured = np.load(\"../data/nparrays/X_train_features4.npy\")\n",
    "X_val_featured = np.load(\"../data/nparrays/X_val_features4.npy\")\n",
    "\n",
    "svm_model = make_pipeline(\n",
    "    StandardScaler(), \n",
    "    PCA(n_components=0.75, random_state=SEED), \n",
    "    SVC(C=8, kernel='rbf', gamma='scale',random_state=SEED))\n",
    "\n",
    "svm_model.fit(X_train_featured, y_train)\n",
    "\n",
    "y_pred_svm = svm_model.predict(X_val_featured)\n",
    "accuracy_svm = accuracy_score(y_val, y_pred_svm)\n",
    "print(f\"SVM Validation Accuracy: {accuracy_svm:.4f}\")\n",
    "\n",
    "from sklearn.metrics import classification_report\n",
    "from sklearn.metrics import confusion_matrix\n",
    "from matplotlib import pyplot as plt\n",
    "\n",
    "# Classification Report \n",
    "print(\"Classification Report:\")\n",
    "print(classification_report(y_val, y_pred_svm))"
   ]
  }
 ],
 "metadata": {
  "kernelspec": {
   "display_name": "rapids_env2",
   "language": "python",
   "name": "python3"
  },
  "language_info": {
   "codemirror_mode": {
    "name": "ipython",
    "version": 3
   },
   "file_extension": ".py",
   "mimetype": "text/x-python",
   "name": "python",
   "nbconvert_exporter": "python",
   "pygments_lexer": "ipython3",
   "version": "3.8.20"
  }
 },
 "nbformat": 4,
 "nbformat_minor": 5
}

{
 "cells": [
  {
   "cell_type": "code",
   "execution_count": 1,
   "id": "d2616073",
   "metadata": {},
   "outputs": [
    {
     "name": "stderr",
     "output_type": "stream",
     "text": [
      "Processing images: 100%|██████████| 50000/50000 [00:20<00:00, 2486.43it/s]\n"
     ]
    }
   ],
   "source": [
    "import os\n",
    "import numpy as np\n",
    "import pandas as pd\n",
    "from PIL import Image\n",
    "from sklearn.feature_extraction.image import extract_patches_2d\n",
    "from sklearn.model_selection import train_test_split\n",
    "from sklearn.ensemble import RandomForestClassifier\n",
    "from sklearn.metrics import accuracy_score\n",
    "from cuml.decomposition import PCA  # 替换 sklearn 的 PCA\n",
    "\n",
    "from tqdm import tqdm\n",
    "\n",
    "import cv2  \n",
    "\n",
    "# import torchvision.transforms as transforms\n",
    "\n",
    "import matplotlib.pyplot as plt\n",
    "\n",
    "# import cudf\n",
    "from cuml.ensemble import RandomForestClassifier as cuRF\n",
    "from cuml.metrics import accuracy_score as cu_accuracy_score\n",
    "from cuml.svm import SVC\n",
    "from cuml.metrics import accuracy_score\n",
    "import time\n",
    "\n",
    "csv_path = \"../../data/train.csv\"\n",
    "img_dir_eog = \"../../data/train_eog_ims\"\n",
    "img_dir_hog = \"../../data/train_hog_ims\"\n",
    "img_dir_sift = \"../../data/train_sift_ims\"\n",
    "data = pd.read_csv(csv_path)\n",
    "\n",
    "# transform = transforms.Compose([\n",
    "#     transforms.RandomResizedCrop(224),  # 随机裁剪并调整大小\n",
    "#     transforms.RandomHorizontalFlip(),  # 随机水平翻转\n",
    "#     transforms.RandomRotation(15),     # 随机旋转\n",
    "#     # transforms.ColorJitter(brightness=0.2, contrast=0.2, saturation=0.2, hue=0.1)  # 颜色抖动\n",
    "#     # transforms.ToTensor(),             # 转换为张量\n",
    "#     # transforms.Normalize(mean=[0.485, 0.456, 0.406], std=[0.229, 0.224, 0.225])  # 标准化\n",
    "# ])\n",
    "\n",
    "X = []\n",
    "y = []\n",
    "\n",
    "for _, row in tqdm(data.iterrows(), total=len(data), desc=\"Processing images\"):\n",
    "    img_sift_path = os.path.join(img_dir_sift, row.iloc[0])\n",
    "    img_hog_path = os.path.join(img_dir_hog, row.iloc[0])\n",
    "    img_eog_path = os.path.join(img_dir_eog, row.iloc[0])\n",
    "    \n",
    "    label = int(row.iloc[1])\n",
    "    \n",
    "    img_sift = Image.open(img_sift_path).convert(\"L\")  # 转换为灰度图像\n",
    "    img_hog = Image.open(img_hog_path).convert(\"L\")  # 转换为灰度图像\n",
    "    img_eog = Image.open(img_eog_path).convert(\"L\")  # 转换为灰度图像\n",
    "    \n",
    "    \n",
    "    # img_resized = img.resize((128, 128), Image.Resampling.LANCZOS)\n",
    "\n",
    "    # img = transform(img)\n",
    "    # img = np.array(img).flatten()\n",
    "    \n",
    "    # img = cv2.imread(img_path)\n",
    "    # img = cv2.cvtColor(img, cv2.GRA)  # 转换为 RGB 格式\n",
    "    img_sift = np.array(img_sift)  # 转换为 NumPy 数组\n",
    "    img_hog = np.array(img_hog)  # 转换为 NumPy 数组\n",
    "    img_eog = np.array(img_eog)  # 转换为 NumPy 数组\n",
    "    \n",
    "    img_resized_sift = cv2.resize(img_sift, (64, 64), interpolation=cv2.INTER_CUBIC)\n",
    "    img_resized_hog = cv2.resize(img_hog, (128, 128), interpolation=cv2.INTER_CUBIC)\n",
    "    img_resized_eog = cv2.resize(img_eog, (64, 64), interpolation=cv2.INTER_CUBIC)\n",
    "    \n",
    "    img_flattened = img_resized_hog.flatten()\n",
    "    img_flattened = np.concatenate((img_flattened, img_resized_sift.flatten()))\n",
    "    img_flattened = np.concatenate((img_flattened, img_resized_eog.flatten()))\n",
    "\n",
    "\n",
    "    X.append(img_flattened)\n",
    "    y.append(label)\n",
    "\n",
    "X = np.array(X)\n",
    "y = np.array(y)\n"
   ]
  },
  {
   "cell_type": "code",
   "execution_count": 2,
   "id": "19ec2d5c",
   "metadata": {},
   "outputs": [
    {
     "name": "stdout",
     "output_type": "stream",
     "text": [
      "(50000, 24576)\n",
      "255\n"
     ]
    }
   ],
   "source": [
    "print(X.shape)\n",
    "print(max(X[0]))"
   ]
  },
  {
   "cell_type": "code",
   "execution_count": 3,
   "id": "ce21cf1f",
   "metadata": {},
   "outputs": [],
   "source": [
    "import torch\n",
    "torch.cuda.empty_cache()"
   ]
  },
  {
   "cell_type": "code",
   "execution_count": 4,
   "id": "6d628f43",
   "metadata": {},
   "outputs": [
    {
     "name": "stderr",
     "output_type": "stream",
     "text": [
      "PCA dimensions:   0%|          | 0/3 [00:00<?, ?it/s]"
     ]
    },
    {
     "name": "stdout",
     "output_type": "stream",
     "text": [
      "dim: 175, C: 3\n",
      "Train-test split time: 2.8052 seconds\n",
      "Accuracy: 0.6485999822616577\n",
      "dim: 175, C: 5\n",
      "Train-test split time: 3.2760 seconds\n",
      "Accuracy: 0.6500999927520752\n",
      "dim: 175, C: 7\n",
      "Train-test split time: 3.6859 seconds\n",
      "Accuracy: 0.6499000191688538\n",
      "dim: 175, C: 10\n",
      "Train-test split time: 4.0267 seconds\n"
     ]
    },
    {
     "name": "stderr",
     "output_type": "stream",
     "text": [
      "PCA dimensions:  33%|███▎      | 1/3 [00:39<01:19, 39.69s/it]"
     ]
    },
    {
     "name": "stdout",
     "output_type": "stream",
     "text": [
      "Accuracy: 0.6481999754905701\n",
      "dim: 185, C: 3\n",
      "Train-test split time: 2.7917 seconds\n",
      "Accuracy: 0.6507999897003174\n",
      "dim: 185, C: 5\n",
      "Train-test split time: 3.3521 seconds\n",
      "Accuracy: 0.6527000069618225\n",
      "dim: 185, C: 7\n",
      "Train-test split time: 3.6898 seconds\n",
      "Accuracy: 0.6536999940872192\n",
      "dim: 185, C: 10\n",
      "Train-test split time: 3.9824 seconds\n"
     ]
    },
    {
     "name": "stderr",
     "output_type": "stream",
     "text": [
      "PCA dimensions:  67%|██████▋   | 2/3 [01:17<00:38, 38.59s/it]"
     ]
    },
    {
     "name": "stdout",
     "output_type": "stream",
     "text": [
      "Accuracy: 0.6496999859809875\n",
      "dim: 200, C: 3\n",
      "Train-test split time: 2.8356 seconds\n",
      "Accuracy: 0.650600016117096\n",
      "dim: 200, C: 5\n",
      "Train-test split time: 3.3468 seconds\n",
      "Accuracy: 0.6549999713897705\n",
      "dim: 200, C: 7\n",
      "Train-test split time: 3.6731 seconds\n",
      "Accuracy: 0.6520000100135803\n",
      "dim: 200, C: 10\n",
      "Train-test split time: 3.9798 seconds\n"
     ]
    },
    {
     "name": "stderr",
     "output_type": "stream",
     "text": [
      "PCA dimensions: 100%|██████████| 3/3 [01:55<00:00, 38.52s/it]"
     ]
    },
    {
     "name": "stdout",
     "output_type": "stream",
     "text": [
      "Accuracy: 0.6488999724388123\n",
      "Best Parameters: {'dim': 200, 'C': 5, 'gamma': 'scale'}\n",
      "Best Accuracy: 0.6549999713897705\n"
     ]
    },
    {
     "name": "stderr",
     "output_type": "stream",
     "text": [
      "\n"
     ]
    }
   ],
   "source": [
    "best_params = None\n",
    "best_accuracy = 0\n",
    "\n",
    "X = X.astype(np.float32)\n",
    "\n",
    "pca_dims = [175, 185, 200]\n",
    "Cs = [3, 5, 7, 10]\n",
    "gamma = [\"scale\"]\n",
    "np.random.seed(42)\n",
    "for dim in tqdm(pca_dims, total=len(pca_dims), desc=\"PCA dimensions\"):\n",
    "    if(dim!=-1):\n",
    "        pca = PCA(n_components=dim)\n",
    "        X_pca = pca.fit_transform(X)\n",
    "    else:\n",
    "        X_pca = float(X)\n",
    "        print(f\"Reduced to {dim} dimensions\")\n",
    "    for C in Cs:\n",
    "        for g in gamma:\n",
    "            print(f\"dim: {dim}, C: {C}\")\n",
    "            start_time = time.time()\n",
    "            X_train, X_test, Y_train, Y_test = train_test_split(X_pca, y, test_size=0.2, random_state=42)\n",
    "            # 使用 cuML 的 SVC 模型进行训练\n",
    "            svm_model = SVC(kernel='rbf', C=C, gamma=g)\n",
    "            svm_model.fit(X_train, Y_train)\n",
    "            end_time = time.time()\n",
    "            print(f\"Train-test split time: {end_time - start_time:.4f} seconds\")\n",
    "            Y_pred = svm_model.predict(X_test)\n",
    "            # 计算准确率\n",
    "            acc = accuracy_score(Y_test, Y_pred)\n",
    "            print(\"Accuracy:\", acc)\n",
    "            \n",
    "            if acc > best_accuracy:\n",
    "                best_accuracy = acc\n",
    "                best_params = {\"dim\": dim, \"C\": C, \"gamma\": g}\n",
    "\n",
    "print(\"Best Parameters:\", best_params)\n",
    "print(\"Best Accuracy:\", best_accuracy)\n",
    "\n",
    "# Best Parameters: {'dim': 100, 'C': 10}\n",
    "# Best Accuracy: 0.5564000010490417"
   ]
  }
 ],
 "metadata": {
  "kernelspec": {
   "display_name": "rapids_env2",
   "language": "python",
   "name": "python3"
  },
  "language_info": {
   "codemirror_mode": {
    "name": "ipython",
    "version": 3
   },
   "file_extension": ".py",
   "mimetype": "text/x-python",
   "name": "python",
   "nbconvert_exporter": "python",
   "pygments_lexer": "ipython3",
   "version": "3.8.20"
  }
 },
 "nbformat": 4,
 "nbformat_minor": 5
}

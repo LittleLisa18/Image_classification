{
 "cells": [
  {
   "cell_type": "markdown",
   "id": "e1727133",
   "metadata": {},
   "source": [
    "### Read Data"
   ]
  },
  {
   "cell_type": "markdown",
   "id": "10628dc2",
   "metadata": {},
   "source": [
    "#### Load Data"
   ]
  },
  {
   "cell_type": "code",
   "execution_count": 15,
   "id": "5944b01e",
   "metadata": {},
   "outputs": [
    {
     "name": "stdout",
     "output_type": "stream",
     "text": [
      "           im_name  label\n",
      "0      000231c.jpg      2\n",
      "1      0002574.jpg      5\n",
      "2      00027d5.jpg      7\n",
      "3      000304e.jpg      3\n",
      "4      00047fc.jpg      7\n",
      "...            ...    ...\n",
      "49995  d507197.jpg      5\n",
      "49996  d508429.jpg      1\n",
      "49997  d508cb7.jpg      9\n",
      "49998  d509167.jpg      3\n",
      "49999  d509c42.jpg      3\n",
      "\n",
      "[50000 rows x 2 columns]\n"
     ]
    }
   ],
   "source": [
    "import os\n",
    "import numpy as np\n",
    "import pandas as pd\n",
    "from PIL import Image\n",
    "\n",
    "csv_path, csv_test_path = \"./data/train.csv\", \"./data/test.csv\"\n",
    "img_dir, img_dir_test = \"./data/train_ims\", \"./data/test_ims\"\n",
    "\n",
    "data_train = pd.read_csv(csv_path)\n",
    "print(data_train)\n",
    "data_test = pd.read_csv(csv_test_path)\n",
    "\n",
    "X_train, y_train, X_test, y_test = [], [], [], []\n",
    "\n",
    "for _, row in data_train.iterrows():\n",
    "    img_path = os.path.join(img_dir, row.iloc[0])\n",
    "    label = int(row.iloc[1])\n",
    "    img = Image.open(img_path).convert(\"RGB\")\n",
    "    img = np.array(img).flatten()\n",
    "    X_train.append(img)\n",
    "    y_train.append(label)\n",
    "\n",
    "for _, row in data_test.iterrows():\n",
    "    img_path = os.path.join(img_dir_test, row.iloc[0])\n",
    "    label = int(row.iloc[1])\n",
    "    img = Image.open(img_path).convert(\"RGB\")\n",
    "    img = np.array(img).flatten()\n",
    "    X_test.append(img)\n",
    "    y_test.append(label)\n",
    "\n",
    "X_train = np.array(X_train)\n",
    "y_train = np.array(y_train)\n",
    "\n",
    "X_test = np.array(X_test)\n",
    "y_test = np.array(y_test)"
   ]
  },
  {
   "cell_type": "markdown",
   "id": "d9dca99c",
   "metadata": {},
   "source": [
    "#### Size of dataset"
   ]
  },
  {
   "cell_type": "code",
   "execution_count": 16,
   "id": "941cba88",
   "metadata": {},
   "outputs": [
    {
     "name": "stdout",
     "output_type": "stream",
     "text": [
      "The shape of the training set (after flatten 3 * 32 * 32):  (50000, 3072)\n",
      "The shape of the testing set (after flatten 3 * 32 * 32):  (10000, 3072)\n",
      "The size of the label of the training set:  (50000,)\n",
      "The size of the label of the test set:  (10000,)\n"
     ]
    }
   ],
   "source": [
    "print(\"The shape of the training set (after flatten 3 * 32 * 32): \", X_train.shape)\n",
    "print(\"The shape of the testing set (after flatten 3 * 32 * 32): \", X_test.shape)\n",
    "print(\"The size of the label of the training set: \", y_train.shape)\n",
    "print(\"The size of the label of the test set: \", y_test.shape)"
   ]
  },
  {
   "cell_type": "markdown",
   "id": "e44f85c8",
   "metadata": {},
   "source": [
    "#### Calculate the number of the labels of each class"
   ]
  },
  {
   "cell_type": "code",
   "execution_count": 17,
   "id": "9b48f5e2",
   "metadata": {},
   "outputs": [
    {
     "name": "stdout",
     "output_type": "stream",
     "text": [
      "Count of each label:\n",
      "       Count\n",
      "Label       \n",
      "0       5038\n",
      "1       5016\n",
      "2       5032\n",
      "3       4991\n",
      "4       4982\n",
      "5       4967\n",
      "6       4985\n",
      "7       4998\n",
      "8       5002\n",
      "9       4989\n"
     ]
    }
   ],
   "source": [
    "# Count the labels\n",
    "count_labels = np.unique(y_train, return_counts=True)\n",
    "\n",
    "# Create DataFrame\n",
    "label_counts_df = pd.DataFrame({\n",
    "    \"Label\": count_labels[0],\n",
    "    \"Count\": count_labels[1]\n",
    "}).set_index(\"Label\")\n",
    "\n",
    "# Print DataFrame\n",
    "print(\"Count of each label:\")\n",
    "print(label_counts_df)"
   ]
  },
  {
   "cell_type": "markdown",
   "id": "8b28b910",
   "metadata": {},
   "source": [
    "#### Visualization"
   ]
  },
  {
   "cell_type": "code",
   "execution_count": 18,
   "id": "a7724443",
   "metadata": {},
   "outputs": [
    {
     "data": {
      "text/html": [
       "<table border=\"1\" class=\"dataframe\">\n",
       "  <thead>\n",
       "    <tr style=\"text-align: right;\">\n",
       "      <th></th>\n",
       "      <th>Count</th>\n",
       "      <th>Example Images</th>\n",
       "    </tr>\n",
       "    <tr>\n",
       "      <th>Label</th>\n",
       "      <th></th>\n",
       "      <th></th>\n",
       "    </tr>\n",
       "  </thead>\n",
       "  <tbody>\n",
       "    <tr>\n",
       "      <th>0</th>\n",
       "      <td>5038</td>\n",
       "      <td><img src=\"./data/train_ims/993f9c6.jpg\" width=\"50\" /> <img src=\"./data/train_ims/4f46da1.jpg\" width=\"50\" /> <img src=\"./data/train_ims/d40c830.jpg\" width=\"50\" /> <img src=\"./data/train_ims/901a8e6.jpg\" width=\"50\" /> <img src=\"./data/train_ims/aab0d00.jpg\" width=\"50\" /> <img src=\"./data/train_ims/8b20309.jpg\" width=\"50\" /> <img src=\"./data/train_ims/b0bc7dc.jpg\" width=\"50\" /> <img src=\"./data/train_ims/92f45e7.jpg\" width=\"50\" /> <img src=\"./data/train_ims/c2d0733.jpg\" width=\"50\" /> <img src=\"./data/train_ims/7e0199f.jpg\" width=\"50\" /></td>\n",
       "    </tr>\n",
       "    <tr>\n",
       "      <th>1</th>\n",
       "      <td>5016</td>\n",
       "      <td><img src=\"./data/train_ims/ba150c8.jpg\" width=\"50\" /> <img src=\"./data/train_ims/57d463e.jpg\" width=\"50\" /> <img src=\"./data/train_ims/c321181.jpg\" width=\"50\" /> <img src=\"./data/train_ims/19786f2.jpg\" width=\"50\" /> <img src=\"./data/train_ims/9d6986e.jpg\" width=\"50\" /> <img src=\"./data/train_ims/258cd6a.jpg\" width=\"50\" /> <img src=\"./data/train_ims/7bc8012.jpg\" width=\"50\" /> <img src=\"./data/train_ims/ad92353.jpg\" width=\"50\" /> <img src=\"./data/train_ims/26339b5.jpg\" width=\"50\" /> <img src=\"./data/train_ims/264c874.jpg\" width=\"50\" /></td>\n",
       "    </tr>\n",
       "    <tr>\n",
       "      <th>2</th>\n",
       "      <td>5032</td>\n",
       "      <td><img src=\"./data/train_ims/a85a8a5.jpg\" width=\"50\" /> <img src=\"./data/train_ims/a0e6ba8.jpg\" width=\"50\" /> <img src=\"./data/train_ims/31b6acb.jpg\" width=\"50\" /> <img src=\"./data/train_ims/4de44c0.jpg\" width=\"50\" /> <img src=\"./data/train_ims/a643556.jpg\" width=\"50\" /> <img src=\"./data/train_ims/cf94a64.jpg\" width=\"50\" /> <img src=\"./data/train_ims/334a1e1.jpg\" width=\"50\" /> <img src=\"./data/train_ims/7f62e16.jpg\" width=\"50\" /> <img src=\"./data/train_ims/683144b.jpg\" width=\"50\" /> <img src=\"./data/train_ims/19deeaa.jpg\" width=\"50\" /></td>\n",
       "    </tr>\n",
       "    <tr>\n",
       "      <th>3</th>\n",
       "      <td>4991</td>\n",
       "      <td><img src=\"./data/train_ims/c76e66a.jpg\" width=\"50\" /> <img src=\"./data/train_ims/c52adbc.jpg\" width=\"50\" /> <img src=\"./data/train_ims/6711fdb.jpg\" width=\"50\" /> <img src=\"./data/train_ims/2c9f909.jpg\" width=\"50\" /> <img src=\"./data/train_ims/10cc340.jpg\" width=\"50\" /> <img src=\"./data/train_ims/4d4a148.jpg\" width=\"50\" /> <img src=\"./data/train_ims/3076869.jpg\" width=\"50\" /> <img src=\"./data/train_ims/814bc84.jpg\" width=\"50\" /> <img src=\"./data/train_ims/490ad0c.jpg\" width=\"50\" /> <img src=\"./data/train_ims/1e1cd6f.jpg\" width=\"50\" /></td>\n",
       "    </tr>\n",
       "    <tr>\n",
       "      <th>4</th>\n",
       "      <td>4982</td>\n",
       "      <td><img src=\"./data/train_ims/b3e2d04.jpg\" width=\"50\" /> <img src=\"./data/train_ims/5a46b42.jpg\" width=\"50\" /> <img src=\"./data/train_ims/7a5c67f.jpg\" width=\"50\" /> <img src=\"./data/train_ims/b9268b5.jpg\" width=\"50\" /> <img src=\"./data/train_ims/35ba103.jpg\" width=\"50\" /> <img src=\"./data/train_ims/a3b9c1a.jpg\" width=\"50\" /> <img src=\"./data/train_ims/8b41fe8.jpg\" width=\"50\" /> <img src=\"./data/train_ims/1468257.jpg\" width=\"50\" /> <img src=\"./data/train_ims/896ddc4.jpg\" width=\"50\" /> <img src=\"./data/train_ims/2637cdc.jpg\" width=\"50\" /></td>\n",
       "    </tr>\n",
       "    <tr>\n",
       "      <th>5</th>\n",
       "      <td>4967</td>\n",
       "      <td><img src=\"./data/train_ims/a58425b.jpg\" width=\"50\" /> <img src=\"./data/train_ims/8c1cf3b.jpg\" width=\"50\" /> <img src=\"./data/train_ims/7523a42.jpg\" width=\"50\" /> <img src=\"./data/train_ims/c4c3e19.jpg\" width=\"50\" /> <img src=\"./data/train_ims/7511a96.jpg\" width=\"50\" /> <img src=\"./data/train_ims/5b65c12.jpg\" width=\"50\" /> <img src=\"./data/train_ims/738a0f9.jpg\" width=\"50\" /> <img src=\"./data/train_ims/160e0ed.jpg\" width=\"50\" /> <img src=\"./data/train_ims/2b73c9f.jpg\" width=\"50\" /> <img src=\"./data/train_ims/1d3e24b.jpg\" width=\"50\" /></td>\n",
       "    </tr>\n",
       "    <tr>\n",
       "      <th>6</th>\n",
       "      <td>4985</td>\n",
       "      <td><img src=\"./data/train_ims/0a93bea.jpg\" width=\"50\" /> <img src=\"./data/train_ims/2ba38dc.jpg\" width=\"50\" /> <img src=\"./data/train_ims/032bfd9.jpg\" width=\"50\" /> <img src=\"./data/train_ims/28dcc34.jpg\" width=\"50\" /> <img src=\"./data/train_ims/5165dcc.jpg\" width=\"50\" /> <img src=\"./data/train_ims/42968d8.jpg\" width=\"50\" /> <img src=\"./data/train_ims/c1ced04.jpg\" width=\"50\" /> <img src=\"./data/train_ims/0d0032d.jpg\" width=\"50\" /> <img src=\"./data/train_ims/200a853.jpg\" width=\"50\" /> <img src=\"./data/train_ims/938d1a7.jpg\" width=\"50\" /></td>\n",
       "    </tr>\n",
       "    <tr>\n",
       "      <th>7</th>\n",
       "      <td>4998</td>\n",
       "      <td><img src=\"./data/train_ims/a1f443f.jpg\" width=\"50\" /> <img src=\"./data/train_ims/61e051c.jpg\" width=\"50\" /> <img src=\"./data/train_ims/66a4e8f.jpg\" width=\"50\" /> <img src=\"./data/train_ims/58c5cff.jpg\" width=\"50\" /> <img src=\"./data/train_ims/0e11a10.jpg\" width=\"50\" /> <img src=\"./data/train_ims/2cd7ac0.jpg\" width=\"50\" /> <img src=\"./data/train_ims/a853ae1.jpg\" width=\"50\" /> <img src=\"./data/train_ims/9b29e05.jpg\" width=\"50\" /> <img src=\"./data/train_ims/c3c0dcf.jpg\" width=\"50\" /> <img src=\"./data/train_ims/af68b8a.jpg\" width=\"50\" /></td>\n",
       "    </tr>\n",
       "    <tr>\n",
       "      <th>8</th>\n",
       "      <td>5002</td>\n",
       "      <td><img src=\"./data/train_ims/665d6c0.jpg\" width=\"50\" /> <img src=\"./data/train_ims/5360f17.jpg\" width=\"50\" /> <img src=\"./data/train_ims/4954cc4.jpg\" width=\"50\" /> <img src=\"./data/train_ims/bb3a744.jpg\" width=\"50\" /> <img src=\"./data/train_ims/6e72486.jpg\" width=\"50\" /> <img src=\"./data/train_ims/d0724fd.jpg\" width=\"50\" /> <img src=\"./data/train_ims/44a8348.jpg\" width=\"50\" /> <img src=\"./data/train_ims/8ed1a44.jpg\" width=\"50\" /> <img src=\"./data/train_ims/93f2845.jpg\" width=\"50\" /> <img src=\"./data/train_ims/59563c0.jpg\" width=\"50\" /></td>\n",
       "    </tr>\n",
       "    <tr>\n",
       "      <th>9</th>\n",
       "      <td>4989</td>\n",
       "      <td><img src=\"./data/train_ims/a2c40f8.jpg\" width=\"50\" /> <img src=\"./data/train_ims/364403f.jpg\" width=\"50\" /> <img src=\"./data/train_ims/ab2169b.jpg\" width=\"50\" /> <img src=\"./data/train_ims/c842448.jpg\" width=\"50\" /> <img src=\"./data/train_ims/5a7ea03.jpg\" width=\"50\" /> <img src=\"./data/train_ims/c87ea08.jpg\" width=\"50\" /> <img src=\"./data/train_ims/a7dece0.jpg\" width=\"50\" /> <img src=\"./data/train_ims/d012822.jpg\" width=\"50\" /> <img src=\"./data/train_ims/a76877c.jpg\" width=\"50\" /> <img src=\"./data/train_ims/6f5674c.jpg\" width=\"50\" /></td>\n",
       "    </tr>\n",
       "  </tbody>\n",
       "</table>"
      ],
      "text/plain": [
       "<IPython.core.display.HTML object>"
      ]
     },
     "execution_count": 18,
     "metadata": {},
     "output_type": "execute_result"
    }
   ],
   "source": [
    "from IPython.core.display import HTML\n",
    "\n",
    "# Count the labels\n",
    "count_labels = np.unique(y_train, return_counts=True)\n",
    "\n",
    "# Create DataFrame\n",
    "label_counts_df = pd.DataFrame({\n",
    "    \"Label\": count_labels[0],\n",
    "    \"Count\": count_labels[1]\n",
    "}).set_index(\"Label\")\n",
    "\n",
    "# Add a column for example images\n",
    "def get_example_images(label, num_examples=10):\n",
    "    indices = np.where(y_train == label)[0]\n",
    "    selected_indices = np.random.choice(indices, size=min(num_examples, len(indices)), replace=False)\n",
    "    example_images = [os.path.join(img_dir, data_train.iloc[i, 0]) for i in selected_indices]\n",
    "    return \" \".join([f'<img src=\"{img}\" width=\"50\" />' for img in example_images])\n",
    "\n",
    "label_counts_df[\"Example Images\"] = label_counts_df.index.map(get_example_images)\n",
    "\n",
    "# Display the DataFrame with images\n",
    "HTML(label_counts_df.to_html(escape=False))"
   ]
  },
  {
   "cell_type": "markdown",
   "id": "fd142821",
   "metadata": {},
   "source": [
    "#### Draw Diagrams"
   ]
  },
  {
   "cell_type": "code",
   "execution_count": 19,
   "id": "e5397e73",
   "metadata": {},
   "outputs": [
    {
     "data": {
      "image/png": "[encoded data removed]",
      "text/plain": [
       "<Figure size 800x400 with 1 Axes>"
      ]
     },
     "metadata": {},
     "output_type": "display_data"
    }
   ],
   "source": [
    "import matplotlib.pyplot as plt\n",
    "\n",
    "unique_labels = np.unique(y_train)\n",
    "\n",
    "plt.figure(figsize=(8, 4))\n",
    "plt.bar(count_labels[0], count_labels[1], color='skyblue')\n",
    "plt.title(\"Number of Samples per Label in Training Set\", fontsize=16)\n",
    "plt.xlabel(\"Label\", fontsize=14)\n",
    "plt.ylabel(\"Count\", fontsize=14)\n",
    "plt.ylim([4900, 5050])\n",
    "plt.xticks(unique_labels)\n",
    "\n",
    "for i, count in enumerate(count_labels[1]):\n",
    "    plt.text(count_labels[0][i], count + 5, str(count), ha='center', fontsize=10)\n",
    "\n",
    "plt.show()"
   ]
  },
  {
   "cell_type": "markdown",
   "id": "33299747",
   "metadata": {},
   "source": [
    "#### Other Statistics"
   ]
  },
  {
   "cell_type": "code",
   "execution_count": 20,
   "id": "d5a97652",
   "metadata": {},
   "outputs": [
    {
     "name": "stdout",
     "output_type": "stream",
     "text": [
      "Other Statistics for the training set:\n",
      "count    50000.00000\n",
      "mean         4.49258\n",
      "std          2.87539\n",
      "min          0.00000\n",
      "25%          2.00000\n",
      "50%          4.00000\n",
      "75%          7.00000\n",
      "max          9.00000\n",
      "dtype: float64\n"
     ]
    }
   ],
   "source": [
    "print(\"Other Statistics for the training set:\")\n",
    "print(pd.Series(y_train).describe())"
   ]
  }
 ],
 "metadata": {
  "kernelspec": {
   "display_name": "COMP3314",
   "language": "python",
   "name": "python3"
  },
  "language_info": {
   "codemirror_mode": {
    "name": "ipython",
    "version": 3
   },
   "file_extension": ".py",
   "mimetype": "text/x-python",
   "name": "python",
   "nbconvert_exporter": "python",
   "pygments_lexer": "ipython3",
   "version": "3.9.21"
  }
 },
 "nbformat": 4,
 "nbformat_minor": 5
}
